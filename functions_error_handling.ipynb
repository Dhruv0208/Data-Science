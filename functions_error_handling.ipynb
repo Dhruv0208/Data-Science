{
 "cells": [
  {
   "cell_type": "code",
   "execution_count": 1,
   "metadata": {},
   "outputs": [],
   "source": [
    "def function1():            #take nothing and return nothing\n",
    "    print(\"hello\")          #return type = nonetype     \n",
    "    \n",
    "def function2(name):        #take something return nothing\n",
    "    print(\"hello\", name)    #return type = NoneType\n",
    "    \n",
    "def Add(x,y):               #take something and return something\n",
    "    return x+y              # return type = int\n",
    "\n",
    "def function3():            # take nothing return something\n",
    "    return \"Good MORNING\"   # return type = str"
   ]
  },
  {
   "cell_type": "code",
   "execution_count": 2,
   "metadata": {},
   "outputs": [
    {
     "name": "stdout",
     "output_type": "stream",
     "text": [
      "hello 4\n"
     ]
    },
    {
     "data": {
      "text/plain": [
       "NoneType"
      ]
     },
     "execution_count": 2,
     "metadata": {},
     "output_type": "execute_result"
    }
   ],
   "source": [
    "type(function2(4))"
   ]
  },
  {
   "cell_type": "code",
   "execution_count": 3,
   "metadata": {},
   "outputs": [
    {
     "data": {
      "text/plain": [
       "int"
      ]
     },
     "execution_count": 3,
     "metadata": {},
     "output_type": "execute_result"
    }
   ],
   "source": [
    "type(Add(6,7))"
   ]
  },
  {
   "cell_type": "code",
   "execution_count": 4,
   "metadata": {},
   "outputs": [
    {
     "data": {
      "text/plain": [
       "str"
      ]
     },
     "execution_count": 4,
     "metadata": {},
     "output_type": "execute_result"
    }
   ],
   "source": [
    "type(function3())"
   ]
  },
  {
   "cell_type": "markdown",
   "metadata": {},
   "source": [
    "types of errors"
   ]
  },
  {
   "cell_type": "markdown",
   "metadata": {},
   "source": [
    "compile time error, logical error, runtime error"
   ]
  },
  {
   "cell_type": "code",
   "execution_count": null,
   "metadata": {},
   "outputs": [],
   "source": [
    "num1 = int(input(\"value1: \"))\n",
    "num2 = int(input(\"value1: \"))\n",
    "print(\"output: \", num1/num2)"
   ]
  },
  {
   "cell_type": "markdown",
   "metadata": {},
   "source": [
    "the upper show runtime error it depends on the output of the user therefore the handling is shown below"
   ]
  },
  {
   "cell_type": "code",
   "execution_count": null,
   "metadata": {},
   "outputs": [],
   "source": [
    "num1 = int(input(\"value1: \"))\n",
    "num2 = int(input(\"value1: \"))\n",
    "try:\n",
    "    print(\"output: \", num1/num2)\n",
    "except ZeroDivisionError:    \n",
    "    print(\"Invalid Input\")"
   ]
  },
  {
   "cell_type": "markdown",
   "metadata": {},
   "source": [
    "here we get \"invalid input\" as an output for wrong input rather than error"
   ]
  },
  {
   "cell_type": "markdown",
   "metadata": {},
   "source": [
    "also if we give a string rathter than interger value we will get a value error. its handling is shown below"
   ]
  },
  {
   "cell_type": "code",
   "execution_count": null,
   "metadata": {},
   "outputs": [],
   "source": [
    "try:\n",
    "    num1 = int(input(\"Value1: \"))\n",
    "    num2 = int(input(\"Value2: \"))\n",
    "    print(\"output: \", num1/num2)\n",
    "except ZeroDivisionError:    \n",
    "    print(\"Invalid Input\")\n",
    "except ValueError:\n",
    "    print(\"Enter an integer value only\")"
   ]
  },
  {
   "cell_type": "code",
   "execution_count": null,
   "metadata": {},
   "outputs": [],
   "source": [
    "print(k)"
   ]
  },
  {
   "cell_type": "code",
   "execution_count": null,
   "metadata": {},
   "outputs": [],
   "source": [
    "li = [12,34,56]\n",
    "li.append(65)"
   ]
  },
  {
   "cell_type": "code",
   "execution_count": null,
   "metadata": {},
   "outputs": [],
   "source": [
    "li"
   ]
  },
  {
   "cell_type": "markdown",
   "metadata": {},
   "source": [
    "CLASSES"
   ]
  },
  {
   "cell_type": "code",
   "execution_count": 19,
   "metadata": {},
   "outputs": [],
   "source": [
    "class student:\n",
    "    def __init__(self, name, age, mobile, mother_name, mother_age, mother_mobile):\n",
    "        print(\"Good Morning\")\n",
    "        self.name = name\n",
    "        self.age = age\n",
    "        self.mobile = mobile\n",
    "        self.mother_name = mother_name\n",
    "        self.mother_age = mother_age\n",
    "        self.mother_mobile = mother_mobile\n",
    "#    def setDetails(self,name,age,mobile):#it is compulsory to give an argument self or some other argument\n",
    "#       self.name = name\n",
    "#       self.age = age\n",
    "#       self.mobile = mobile\n",
    "    def getName(self):\n",
    "        print(self.name)\n",
    "    def getAge(self):    \n",
    "        print(self.age)\n",
    "    def getMobile(self):\n",
    "        print(self.mobile)\n",
    "    def getDetails(self):\n",
    "        print(\"Name: \",self.name)\n",
    "        print(\"Mobile: \",self.mobile)\n",
    "        print(\"Age: \",self.age)\n",
    "        print(\"Mother's name: \", self.mother_name)\n",
    "        print(\"Mother's age: \", self.mother_age)\n",
    "        print(\"Mother's Phone number: \", self.mother_mobile)"
   ]
  },
  {
   "cell_type": "markdown",
   "metadata": {},
   "source": [
    "self takes takes the attribute \"s\" and the name \"dhruv\" gets stored in the attribute name in setName\n",
    "\"__int__\" is directly lnked to the class name"
   ]
  },
  {
   "cell_type": "code",
   "execution_count": 20,
   "metadata": {},
   "outputs": [
    {
     "name": "stdout",
     "output_type": "stream",
     "text": [
      "Good Morning\n"
     ]
    }
   ],
   "source": [
    "s = student(\"Dhruv Bansal\", 23, 99119080282,\"Shalini Bansal\", 56, 911908)"
   ]
  },
  {
   "cell_type": "code",
   "execution_count": 21,
   "metadata": {},
   "outputs": [
    {
     "name": "stdout",
     "output_type": "stream",
     "text": [
      "Name:  Dhruv Bansal\n",
      "Mobile:  99119080282\n",
      "Age:  23\n",
      "Mother's name:  Shalini Bansal\n",
      "Mother's age:  56\n",
      "Mother's Phone number:  911908\n"
     ]
    }
   ],
   "source": [
    "s.getDetails()"
   ]
  },
  {
   "cell_type": "markdown",
   "metadata": {},
   "source": [
    "INHERITENCE : using object of some different class into another class or using a class from parent child has to first inherit it"
   ]
  },
  {
   "cell_type": "code",
   "execution_count": 32,
   "metadata": {},
   "outputs": [],
   "source": [
    "class A:\n",
    "    def __init__(self):\n",
    "        print(\"A init\")\n",
    "    def f1(self):\n",
    "        print(\"Function 1\")\n",
    "        \n",
    "class B(A):     #inherit the class \"A\"\n",
    "    def fb(self):\n",
    "        print(\"Function 2\")        "
   ]
  },
  {
   "cell_type": "markdown",
   "metadata": {},
   "source": [
    "now class \"B\" can call f1 f class \"A\""
   ]
  },
  {
   "cell_type": "code",
   "execution_count": 33,
   "metadata": {},
   "outputs": [
    {
     "name": "stdout",
     "output_type": "stream",
     "text": [
      "A init\n",
      "Function 2\n",
      "Function 1\n"
     ]
    }
   ],
   "source": [
    "b = B()  # as there no init in class \"B\" therefore init of super class \"A\" is class by default\n",
    "b.fb()\n",
    "b.f1()"
   ]
  },
  {
   "cell_type": "code",
   "execution_count": 40,
   "metadata": {},
   "outputs": [],
   "source": [
    "class A:\n",
    "    def __init__(self):\n",
    "        print(\"A init\")\n",
    "    def f1(self):\n",
    "        print(\"Function 1\")\n",
    "        \n",
    "class B(A):     #inherit the class \"A\"\n",
    "    def __init__(self):\n",
    "        print(\"B init\")\n",
    "        super().__init__()\n",
    "    def fb(self):\n",
    "        super().f1()     #using a function from super class \"A\"\n",
    "        print(\"Function 2\")   "
   ]
  },
  {
   "cell_type": "code",
   "execution_count": 41,
   "metadata": {},
   "outputs": [
    {
     "name": "stdout",
     "output_type": "stream",
     "text": [
      "B init\n",
      "A init\n",
      "Function 1\n",
      "Function 2\n"
     ]
    }
   ],
   "source": [
    "b=B()\n",
    "b.fb()"
   ]
  },
  {
   "cell_type": "markdown",
   "metadata": {},
   "source": [
    "CUSTOM ERROR HANDLING"
   ]
  },
  {
   "cell_type": "code",
   "execution_count": 3,
   "metadata": {},
   "outputs": [],
   "source": [
    "class EqualTo10(Exception):\n",
    "    def __init__(self):\n",
    "        print(\"Hello\")"
   ]
  },
  {
   "cell_type": "code",
   "execution_count": 4,
   "metadata": {},
   "outputs": [
    {
     "name": "stdout",
     "output_type": "stream",
     "text": [
      "Enter a number10\n",
      "Hello\n"
     ]
    },
    {
     "ename": "EqualTo10",
     "evalue": "",
     "output_type": "error",
     "traceback": [
      "\u001b[1;31m---------------------------------------------------------------------------\u001b[0m",
      "\u001b[1;31mEqualTo10\u001b[0m                                 Traceback (most recent call last)",
      "\u001b[1;32m<ipython-input-4-3ab050d7ca3a>\u001b[0m in \u001b[0;36m<module>\u001b[1;34m\u001b[0m\n\u001b[0;32m      1\u001b[0m \u001b[0mx\u001b[0m \u001b[1;33m=\u001b[0m \u001b[0mint\u001b[0m\u001b[1;33m(\u001b[0m\u001b[0minput\u001b[0m\u001b[1;33m(\u001b[0m\u001b[1;34m\"Enter a number\"\u001b[0m\u001b[1;33m)\u001b[0m\u001b[1;33m)\u001b[0m\u001b[1;33m\u001b[0m\u001b[1;33m\u001b[0m\u001b[0m\n\u001b[0;32m      2\u001b[0m \u001b[1;32mif\u001b[0m \u001b[0mx\u001b[0m \u001b[1;33m==\u001b[0m \u001b[1;36m10\u001b[0m\u001b[1;33m:\u001b[0m\u001b[1;33m\u001b[0m\u001b[1;33m\u001b[0m\u001b[0m\n\u001b[1;32m----> 3\u001b[1;33m     \u001b[1;32mraise\u001b[0m \u001b[0mEqualTo10\u001b[0m\u001b[1;33m\u001b[0m\u001b[1;33m\u001b[0m\u001b[0m\n\u001b[0m",
      "\u001b[1;31mEqualTo10\u001b[0m: "
     ]
    }
   ],
   "source": [
    "x = int(input(\"Enter a number\"))\n",
    "if x == 10:\n",
    "    raise EqualTo10"
   ]
  },
  {
   "cell_type": "code",
   "execution_count": null,
   "metadata": {},
   "outputs": [],
   "source": []
  }
 ],
 "metadata": {
  "kernelspec": {
   "display_name": "Python 3",
   "language": "python",
   "name": "python3"
  },
  "language_info": {
   "codemirror_mode": {
    "name": "ipython",
    "version": 3
   },
   "file_extension": ".py",
   "mimetype": "text/x-python",
   "name": "python",
   "nbconvert_exporter": "python",
   "pygments_lexer": "ipython3",
   "version": "3.7.6"
  }
 },
 "nbformat": 4,
 "nbformat_minor": 4
}
